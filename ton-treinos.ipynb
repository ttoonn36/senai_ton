{
 "cells": [
  {
   "cell_type": "code",
   "execution_count": 3,
   "metadata": {},
   "outputs": [
    {
     "name": "stdout",
     "output_type": "stream",
     "text": [
      "Ton\n"
     ]
    }
   ],
   "source": [
    "# 1. Faça um programa que peça para o usuáio digitar o seu nome e depois mostre-o. \n",
    "nome = input('Digite seu nome: ')\n",
    "print(nome)"
   ]
  },
  {
   "cell_type": "code",
   "execution_count": 4,
   "metadata": {},
   "outputs": [
    {
     "name": "stdout",
     "output_type": "stream",
     "text": [
      "4\n"
     ]
    }
   ],
   "source": [
    "# 2. Faça uma calculadora de SOMA. Peça para o usuário digitar o primeiro número e depois para digitar o segundo número, por fim mostre a soma matemática desses números.\n",
    "n1= int(input('Digite um número: '))\n",
    "n2 = int(input('Digite outro número: '))\n",
    "soma = n1 + n2\n",
    "print(soma)"
   ]
  },
  {
   "cell_type": "code",
   "execution_count": 3,
   "metadata": {},
   "outputs": [
    {
     "name": "stdout",
     "output_type": "stream",
     "text": [
      "Sua idade atual é 36!\n"
     ]
    }
   ],
   "source": [
    "# 4. Escreva um programa que peça ao usuário que informe o ano de seu nascimento e o atual vigente, e depois mostre a ele a idade atual dele. \n",
    "ano_nascimento = int(input('Digite seu ano de nascimento: '))\n",
    "ano_vigente = 2024\n",
    "idade_atual = ano_vigente - ano_nascimento\n",
    "print (f'Sua idade atual é {idade_atual}!')"
   ]
  },
  {
   "cell_type": "code",
   "execution_count": 9,
   "metadata": {},
   "outputs": [
    {
     "name": "stdout",
     "output_type": "stream",
     "text": [
      "A temperatura convertida para Fahrenheit é 95.0°F!\n"
     ]
    }
   ],
   "source": [
    "# .5 Faça um programa que solicite ao usuário para ele informar uma temperatura em graus Celsius, e depois faça a conversão dessa temperatura para Fahrenheit uasndo a fórmula F=C*9/5+32. Onde \"F\" é o valor convertido  para Fahrenheit e \"C\" o Valor em Celsius informado pelo usuário. Em seguida, exiba a temperatura em graus Fahrenheit.\n",
    "C = int(input('Digite a temperatura atual em Celsius:'))\n",
    "F = C * 9/5 + 32\n",
    "print(f'A temperatura convertida para Fahrenheit é {F}°F!')"
   ]
  }
 ],
 "metadata": {
  "kernelspec": {
   "display_name": "Python 3",
   "language": "python",
   "name": "python3"
  },
  "language_info": {
   "codemirror_mode": {
    "name": "ipython",
    "version": 3
   },
   "file_extension": ".py",
   "mimetype": "text/x-python",
   "name": "python",
   "nbconvert_exporter": "python",
   "pygments_lexer": "ipython3",
   "version": "3.12.3"
  }
 },
 "nbformat": 4,
 "nbformat_minor": 2
}
