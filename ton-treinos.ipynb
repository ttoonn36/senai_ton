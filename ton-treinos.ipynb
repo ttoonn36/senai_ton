{
 "cells": [
  {
   "cell_type": "code",
   "execution_count": 3,
   "metadata": {},
   "outputs": [
    {
     "name": "stdout",
     "output_type": "stream",
     "text": [
      "Ton\n"
     ]
    }
   ],
   "source": [
    "# 1. Faça um programa que peça para o usuáio digitar o seu nome e depois mostre-o. \n",
    "nome = \n",
    "\n",
    "input('Digite seu nome: ')\n",
    "print(nome)"
   ]
  },
  {
   "cell_type": "code",
   "execution_count": 2,
   "metadata": {},
   "outputs": [
    {
     "name": "stdout",
     "output_type": "stream",
     "text": [
      "Seu nome é Ton e sua idade 36 anos!\n"
     ]
    }
   ],
   "source": [
    "nome = input('Digite seu nome: ')\n",
    "idade = int(input('Digite sua idade: '))\n",
    "print(f'Seu nome é {nome} e sua idade {idade} anos!')"
   ]
  },
  {
   "cell_type": "code",
   "execution_count": 4,
   "metadata": {},
   "outputs": [
    {
     "name": "stdout",
     "output_type": "stream",
     "text": [
      "4\n"
     ]
    }
   ],
   "source": [
    "# 2. Faça uma calculadora de SOMA. Peça para o usuário digitar o primeiro número e depois para digitar o segundo número, por fim mostre a soma matemática desses números.\n",
    "n1= int(input('Digite um número: '))\n",
    "n2 = int(input('Digite outro número: '))\n",
    "soma = n1 + n2\n",
    "print(soma)"
   ]
  },
  {
   "cell_type": "code",
   "execution_count": 3,
   "metadata": {},
   "outputs": [
    {
     "name": "stdout",
     "output_type": "stream",
     "text": [
      "Sua idade atual é 36!\n"
     ]
    }
   ],
   "source": [
    "# 4. Escreva um programa que peça ao usuário que informe o ano de seu nascimento e o atual vigente, e depois mostre a ele a idade atual dele. \n",
    "ano_nascimento = int(input('Digite seu ano de nascimento: '))\n",
    "ano_atual = int(input('Digite o ano atual'))\n",
    "idade_atual = ano_atual- ano_nascimento\n",
    "print (f'Sua idade atual é {idade_atual}!')"
   ]
  },
  {
   "cell_type": "code",
   "execution_count": 9,
   "metadata": {},
   "outputs": [
    {
     "name": "stdout",
     "output_type": "stream",
     "text": [
      "A temperatura convertida para Fahrenheit é 95.0°F!\n"
     ]
    }
   ],
   "source": [
    "# .5 Faça um programa que solicite ao usuário para ele informar uma temperatura em graus Celsius, e depois faça a conversão dessa temperatura para Fahrenheit uasndo a fórmula F=C*9/5+32. Onde \"F\" é o valor convertido  para Fahrenheit e \"C\" o Valor em Celsius informado pelo usuário. Em seguida, exiba a temperatura em graus Fahrenheit.\n",
    "C = int(input('Digite a temperatura atual em Celsius:'))\n",
    "F = C * 9/5 + 32\n",
    "print(f'A temperatura convertida para Fahrenheit é {F}°F!')\n",
    "\n",
    "\n"
   ]
  },
  {
   "cell_type": "code",
   "execution_count": 12,
   "metadata": {},
   "outputs": [
    {
     "name": "stdout",
     "output_type": "stream",
     "text": [
      "False\n"
     ]
    }
   ],
   "source": [
    "print(( False and True))"
   ]
  },
  {
   "cell_type": "code",
   "execution_count": 17,
   "metadata": {},
   "outputs": [
    {
     "name": "stdout",
     "output_type": "stream",
     "text": [
      "Você não pode entrar no parque de diversões!\n"
     ]
    }
   ],
   "source": [
    "idade = int(input('Digite sua idade:'))\n",
    "if idade >=18 or idade <18 and idade >=15:\n",
    "    print('Voçê pode entrar no parque de diversões!')\n",
    "else:\n",
    "    print('Você não pode entrar no parque de diversões!')"
   ]
  },
  {
   "cell_type": "code",
   "execution_count": 23,
   "metadata": {},
   "outputs": [
    {
     "name": "stdout",
     "output_type": "stream",
     "text": [
      "Você não pode votar!\n"
     ]
    }
   ],
   "source": [
    "idade = int(input('Digite sua idade'))\n",
    "tem_documento = True\n",
    "if idade >=18 and tem_documento:\n",
    "    print('Você pode votar!')\n",
    "else:\n",
    "    print('Você não pode votar!')"
   ]
  },
  {
   "cell_type": "code",
   "execution_count": null,
   "metadata": {},
   "outputs": [],
   "source": [
    "\n"
   ]
  }
 ],
 "metadata": {
  "kernelspec": {
   "display_name": "Python 3",
   "language": "python",
   "name": "python3"
  },
  "language_info": {
   "codemirror_mode": {
    "name": "ipython",
    "version": 3
   },
   "file_extension": ".py",
   "mimetype": "text/x-python",
   "name": "python",
   "nbconvert_exporter": "python",
   "pygments_lexer": "ipython3",
   "version": "3.12.3"
  }
 },
 "nbformat": 4,
 "nbformat_minor": 2
}
