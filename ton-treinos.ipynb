{
 "cells": [
  {
   "cell_type": "code",
   "execution_count": 3,
   "metadata": {},
   "outputs": [
    {
     "name": "stdout",
     "output_type": "stream",
     "text": [
      "Ton\n"
     ]
    }
   ],
   "source": [
    "# 1. Faça um programa que peça para o usuáio digitar o seu nome e depois mostre-o. \n",
    "nome = \n",
    "\n",
    "input('Digite seu nome: ')\n",
    "print(nome)"
   ]
  },
  {
   "cell_type": "code",
   "execution_count": 2,
   "metadata": {},
   "outputs": [
    {
     "name": "stdout",
     "output_type": "stream",
     "text": [
      "Seu nome é Ton e sua idade 36 anos!\n"
     ]
    }
   ],
   "source": [
    "nome = input('Digite seu nome: ')\n",
    "idade = int(input('Digite sua idade: '))\n",
    "print(f'Seu nome é {nome} e sua idade {idade} anos!')"
   ]
  },
  {
   "cell_type": "code",
   "execution_count": 4,
   "metadata": {},
   "outputs": [
    {
     "name": "stdout",
     "output_type": "stream",
     "text": [
      "4\n"
     ]
    }
   ],
   "source": [
    "# 2. Faça uma calculadora de SOMA. Peça para o usuário digitar o primeiro número e depois para digitar o segundo número, por fim mostre a soma matemática desses números.\n",
    "n1= int(input('Digite um número: '))\n",
    "n2 = int(input('Digite outro número: '))\n",
    "soma = n1 + n2\n",
    "print(soma)"
   ]
  },
  {
   "cell_type": "code",
   "execution_count": 3,
   "metadata": {},
   "outputs": [
    {
     "name": "stdout",
     "output_type": "stream",
     "text": [
      "Sua idade atual é 36!\n"
     ]
    }
   ],
   "source": [
    "# 4. Escreva um programa que peça ao usuário que informe o ano de seu nascimento e o atual vigente, e depois mostre a ele a idade atual dele. \n",
    "ano_nascimento = int(input('Digite seu ano de nascimento: '))\n",
    "ano_atual = int(input('Digite o ano atual'))\n",
    "idade_atual = ano_atual- ano_nascimento\n",
    "print (f'Sua idade atual é {idade_atual}!')"
   ]
  },
  {
   "cell_type": "code",
   "execution_count": 9,
   "metadata": {},
   "outputs": [
    {
     "name": "stdout",
     "output_type": "stream",
     "text": [
      "A temperatura convertida para Fahrenheit é 95.0°F!\n"
     ]
    }
   ],
   "source": [
    "# .5 Faça um programa que solicite ao usuário para ele informar uma temperatura em graus Celsius, e depois faça a conversão dessa temperatura para Fahrenheit uasndo a fórmula F=C*9/5+32. Onde \"F\" é o valor convertido  para Fahrenheit e \"C\" o Valor em Celsius informado pelo usuário. Em seguida, exiba a temperatura em graus Fahrenheit.\n",
    "C = int(input('Digite a temperatura atual em Celsius:'))\n",
    "F = C * 9/5 + 32\n",
    "print(f'A temperatura convertida para Fahrenheit é {F}°F!')\n",
    "\n",
    "\n"
   ]
  },
  {
   "cell_type": "code",
   "execution_count": 12,
   "metadata": {},
   "outputs": [
    {
     "name": "stdout",
     "output_type": "stream",
     "text": [
      "False\n"
     ]
    }
   ],
   "source": [
    "print(( False and True))"
   ]
  },
  {
   "cell_type": "code",
   "execution_count": 17,
   "metadata": {},
   "outputs": [
    {
     "name": "stdout",
     "output_type": "stream",
     "text": [
      "Você não pode entrar no parque de diversões!\n"
     ]
    }
   ],
   "source": [
    "idade = int(input('Digite sua idade:'))\n",
    "if idade >=18 or idade <18 and idade >=15:\n",
    "    print('Voçê pode entrar no parque de diversões!')\n",
    "else:\n",
    "    print('Você não pode entrar no parque de diversões!')"
   ]
  },
  {
   "cell_type": "code",
   "execution_count": 23,
   "metadata": {},
   "outputs": [
    {
     "name": "stdout",
     "output_type": "stream",
     "text": [
      "Você não pode votar!\n"
     ]
    }
   ],
   "source": [
    "idade = int(input('Digite sua idade'))\n",
    "tem_documento = True\n",
    "if idade >=18 and tem_documento:\n",
    "    print('Você pode votar!')\n",
    "else:\n",
    "    print('Você não pode votar!')"
   ]
  },
  {
   "cell_type": "code",
   "execution_count": 3,
   "metadata": {},
   "outputs": [
    {
     "name": "stdout",
     "output_type": "stream",
     "text": [
      "Você está em idade ativa!\n"
     ]
    }
   ],
   "source": [
    "idade = int(input('Digite sua idade!'))\n",
    "if idade > 18 :\n",
    "    print('Você está em idade ativa!')\n",
    "else:\n",
    "    print('Você não está em idade ativa!')\n",
    "        "
   ]
  },
  {
   "cell_type": "code",
   "execution_count": 17,
   "metadata": {},
   "outputs": [
    {
     "name": "stdout",
     "output_type": "stream",
     "text": [
      "O número não atende as condições!\n"
     ]
    }
   ],
   "source": [
    "numero = int(input('Digite um número!'))\n",
    "if numero % 2 == 0 and numero > 10:\n",
    "    print('O número é par e maio que 10')\n",
    "else:\n",
    "    print('O número não atende as condições!')"
   ]
  },
  {
   "cell_type": "code",
   "execution_count": 24,
   "metadata": {},
   "outputs": [
    {
     "name": "stdout",
     "output_type": "stream",
     "text": [
      "APROVADO!\n"
     ]
    }
   ],
   "source": [
    "nota = float(input('Digite sua nota!'))\n",
    "if nota >=7 and nota <= 10:\n",
    "    print('APROVADO!')\n",
    "elif nota < 7 and  nota >= 5:\n",
    "    print('RECUPERAÇÃO')\n",
    "elif nota  < 5 :\n",
    "    print('REPROVADO')"
   ]
  },
  {
   "cell_type": "code",
   "execution_count": 28,
   "metadata": {},
   "outputs": [
    {
     "name": "stdout",
     "output_type": "stream",
     "text": [
      "O número está fora do intervalo\n"
     ]
    }
   ],
   "source": [
    "numero = int(input('Digite um número!'))\n",
    "if numero >= 1 and numero <= 100:\n",
    "    print('O número está no intervalo!')\n",
    "else:\n",
    "    print('O número está fora do intervalo')"
   ]
  },
  {
   "cell_type": "code",
   "execution_count": 36,
   "metadata": {},
   "outputs": [
    {
     "name": "stdout",
     "output_type": "stream",
     "text": [
      "Nome de usuário ou senha incorretos!\n"
     ]
    }
   ],
   "source": [
    "nome_usuario = input('Digite seu nome de usuário: ')\n",
    "senha_usuario = int(input('Digite sua senha: '))\n",
    "nome_correto = ('admin')\n",
    "senha_correta = 1234\n",
    "if nome_usuario == nome_correto and senha_usuario == senha_correta:\n",
    "    print('Login bem-sucedido')\n",
    "else:\n",
    "    print('Nome de usuário ou senha incorretos!')"
   ]
  },
  {
   "cell_type": "code",
   "execution_count": 41,
   "metadata": {},
   "outputs": [
    {
     "name": "stdout",
     "output_type": "stream",
     "text": [
      "Temperatura extrema!\n"
     ]
    }
   ],
   "source": [
    "\n",
    "temperatura = int(input('Digite a temperatura!'))\n",
    "if temperatura > 30 or temperatura < 10:\n",
    "    print('Temperatura extrema!')\n",
    "else:\n",
    "    print('Temperatura normal!')\n",
    "    "
   ]
  },
  {
   "cell_type": "code",
   "execution_count": 42,
   "metadata": {},
   "outputs": [
    {
     "name": "stdout",
     "output_type": "stream",
     "text": [
      "Voê pode votar!\n"
     ]
    }
   ],
   "source": [
    "idade = int(input('Digite sua idade: '))\n",
    "titulo = input(('Você possui título?'))\n",
    "if idade >= 18 or titulo == 'sim':\n",
    "    print('Voê pode votar!')"
   ]
  },
  {
   "cell_type": "code",
   "execution_count": 50,
   "metadata": {},
   "outputs": [
    {
     "name": "stdout",
     "output_type": "stream",
     "text": [
      "O número está em um dos intervalos!\n"
     ]
    }
   ],
   "source": [
    "numero = int(input('Digite um número: '))\n",
    "if numero > 1 and numero < 10:\n",
    "    print('O número está em um dos intervalos!')\n",
    "elif numero  > 20 and numero < 30: \n",
    "    print('O numero está em um dos intervalos!')\n",
    "else:\n",
    "    print('O número está fora dos intervalos!')"
   ]
  },
  {
   "cell_type": "code",
   "execution_count": 59,
   "metadata": {},
   "outputs": [
    {
     "name": "stdout",
     "output_type": "stream",
     "text": [
      "Acesso negado!\n"
     ]
    }
   ],
   "source": [
    "idade = int(input('Digite a sua idade: '))\n",
    "permissao = input('Você possui permissão')\n",
    "if idade >= 18 or permissao == 'sim':\n",
    "    print('Acesso permitido!')\n",
    "else:\n",
    "    print('Acesso negado!')"
   ]
  },
  {
   "cell_type": "code",
   "execution_count": 61,
   "metadata": {},
   "outputs": [
    {
     "name": "stdout",
     "output_type": "stream",
     "text": [
      "Valor inválido!\n"
     ]
    }
   ],
   "source": [
    "valor = int(input('Digite um valo: '))\n",
    "if valor >0 :\n",
    "    print('Valor válido!')\n",
    "else:\n",
    "    print('Valor inválido!')\n",
    "    #ton"
   ]
  }
 ],
 "metadata": {
  "kernelspec": {
   "display_name": "Python 3",
   "language": "python",
   "name": "python3"
  },
  "language_info": {
   "codemirror_mode": {
    "name": "ipython",
    "version": 3
   },
   "file_extension": ".py",
   "mimetype": "text/x-python",
   "name": "python",
   "nbconvert_exporter": "python",
   "pygments_lexer": "ipython3",
   "version": "3.12.3"
  }
 },
 "nbformat": 4,
 "nbformat_minor": 2
}
